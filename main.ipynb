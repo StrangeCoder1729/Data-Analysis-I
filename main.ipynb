{
 "cells": [
  {
   "cell_type": "code",
   "execution_count": 1,
   "id": "fc8ffe3e",
   "metadata": {},
   "outputs": [],
   "source": [
    "import pandas as pd\n",
    "import numpy as np\n",
    "import matplotlib.pyplot as plt\n",
    "import seaborn as sns"
   ]
  },
  {
   "cell_type": "code",
   "execution_count": 2,
   "id": "80b2e256",
   "metadata": {},
   "outputs": [
    {
     "data": {
      "text/plain": [
       "<Figure size 7200x7200 with 0 Axes>"
      ]
     },
     "metadata": {},
     "output_type": "display_data"
    }
   ],
   "source": [
    "df = pd.read_csv('Mid_Term_Marks.csv')\n",
    "# print(df.head())\n",
    "\n",
    "fig = plt.figure(figsize = (100, 100))"
   ]
  },
  {
   "cell_type": "code",
   "execution_count": 3,
   "id": "a3496083",
   "metadata": {},
   "outputs": [
    {
     "data": {
      "text/html": [
       "<div>\n",
       "<style scoped>\n",
       "    .dataframe tbody tr th:only-of-type {\n",
       "        vertical-align: middle;\n",
       "    }\n",
       "\n",
       "    .dataframe tbody tr th {\n",
       "        vertical-align: top;\n",
       "    }\n",
       "\n",
       "    .dataframe thead th {\n",
       "        text-align: right;\n",
       "    }\n",
       "</style>\n",
       "<table border=\"1\" class=\"dataframe\">\n",
       "  <thead>\n",
       "    <tr style=\"text-align: right;\">\n",
       "      <th></th>\n",
       "      <th>Unnamed: 0</th>\n",
       "      <th>Roll no</th>\n",
       "      <th>Name</th>\n",
       "      <th>Total (20)</th>\n",
       "    </tr>\n",
       "  </thead>\n",
       "  <tbody>\n",
       "    <tr>\n",
       "      <th>0</th>\n",
       "      <td>0</td>\n",
       "      <td>103</td>\n",
       "      <td>Person 1</td>\n",
       "      <td>15</td>\n",
       "    </tr>\n",
       "    <tr>\n",
       "      <th>1</th>\n",
       "      <td>1</td>\n",
       "      <td>104</td>\n",
       "      <td>Person 2</td>\n",
       "      <td>9</td>\n",
       "    </tr>\n",
       "    <tr>\n",
       "      <th>2</th>\n",
       "      <td>2</td>\n",
       "      <td>105</td>\n",
       "      <td>Person 3</td>\n",
       "      <td>15</td>\n",
       "    </tr>\n",
       "    <tr>\n",
       "      <th>3</th>\n",
       "      <td>3</td>\n",
       "      <td>106</td>\n",
       "      <td>Person 4</td>\n",
       "      <td>9</td>\n",
       "    </tr>\n",
       "    <tr>\n",
       "      <th>4</th>\n",
       "      <td>4</td>\n",
       "      <td>107</td>\n",
       "      <td>Person 5</td>\n",
       "      <td>8</td>\n",
       "    </tr>\n",
       "    <tr>\n",
       "      <th>5</th>\n",
       "      <td>5</td>\n",
       "      <td>108</td>\n",
       "      <td>Person 6</td>\n",
       "      <td>17</td>\n",
       "    </tr>\n",
       "    <tr>\n",
       "      <th>6</th>\n",
       "      <td>6</td>\n",
       "      <td>109</td>\n",
       "      <td>Person 7</td>\n",
       "      <td>16</td>\n",
       "    </tr>\n",
       "    <tr>\n",
       "      <th>7</th>\n",
       "      <td>7</td>\n",
       "      <td>110</td>\n",
       "      <td>Person 8</td>\n",
       "      <td>20</td>\n",
       "    </tr>\n",
       "    <tr>\n",
       "      <th>8</th>\n",
       "      <td>8</td>\n",
       "      <td>112</td>\n",
       "      <td>JPerson 9</td>\n",
       "      <td>11</td>\n",
       "    </tr>\n",
       "    <tr>\n",
       "      <th>9</th>\n",
       "      <td>9</td>\n",
       "      <td>113</td>\n",
       "      <td>Person 10</td>\n",
       "      <td>14</td>\n",
       "    </tr>\n",
       "    <tr>\n",
       "      <th>10</th>\n",
       "      <td>10</td>\n",
       "      <td>114</td>\n",
       "      <td>Person 11</td>\n",
       "      <td>9</td>\n",
       "    </tr>\n",
       "    <tr>\n",
       "      <th>11</th>\n",
       "      <td>11</td>\n",
       "      <td>115</td>\n",
       "      <td>Person 12</td>\n",
       "      <td>10</td>\n",
       "    </tr>\n",
       "    <tr>\n",
       "      <th>12</th>\n",
       "      <td>12</td>\n",
       "      <td>116</td>\n",
       "      <td>Person 13</td>\n",
       "      <td>11</td>\n",
       "    </tr>\n",
       "    <tr>\n",
       "      <th>13</th>\n",
       "      <td>13</td>\n",
       "      <td>118</td>\n",
       "      <td>Person 14</td>\n",
       "      <td>16</td>\n",
       "    </tr>\n",
       "    <tr>\n",
       "      <th>14</th>\n",
       "      <td>14</td>\n",
       "      <td>119</td>\n",
       "      <td>Person 15</td>\n",
       "      <td>13</td>\n",
       "    </tr>\n",
       "    <tr>\n",
       "      <th>15</th>\n",
       "      <td>15</td>\n",
       "      <td>120</td>\n",
       "      <td>Person 16</td>\n",
       "      <td>11</td>\n",
       "    </tr>\n",
       "    <tr>\n",
       "      <th>16</th>\n",
       "      <td>16</td>\n",
       "      <td>121</td>\n",
       "      <td>Person 17</td>\n",
       "      <td>13</td>\n",
       "    </tr>\n",
       "    <tr>\n",
       "      <th>17</th>\n",
       "      <td>17</td>\n",
       "      <td>123</td>\n",
       "      <td>Person 18</td>\n",
       "      <td>20</td>\n",
       "    </tr>\n",
       "  </tbody>\n",
       "</table>\n",
       "</div>"
      ],
      "text/plain": [
       "    Unnamed: 0  Roll no       Name  Total (20)\n",
       "0            0      103   Person 1          15\n",
       "1            1      104   Person 2           9\n",
       "2            2      105   Person 3          15\n",
       "3            3      106   Person 4           9\n",
       "4            4      107   Person 5           8\n",
       "5            5      108   Person 6          17\n",
       "6            6      109   Person 7          16\n",
       "7            7      110   Person 8          20\n",
       "8            8      112  JPerson 9          11\n",
       "9            9      113  Person 10          14\n",
       "10          10      114  Person 11           9\n",
       "11          11      115  Person 12          10\n",
       "12          12      116  Person 13          11\n",
       "13          13      118  Person 14          16\n",
       "14          14      119  Person 15          13\n",
       "15          15      120  Person 16          11\n",
       "16          16      121  Person 17          13\n",
       "17          17      123  Person 18          20"
      ]
     },
     "execution_count": 3,
     "metadata": {},
     "output_type": "execute_result"
    }
   ],
   "source": [
    "df"
   ]
  },
  {
   "cell_type": "markdown",
   "id": "bc3e73df",
   "metadata": {},
   "source": [
    "<span style=\"color:Red;font-weight:700;font-size:40px\"> \n",
    "Descriptive stats\n",
    "</span>"
   ]
  },
  {
   "cell_type": "code",
   "execution_count": 4,
   "id": "d1896624",
   "metadata": {},
   "outputs": [],
   "source": [
    " \n",
    "x = df['Name']\n",
    "y = df['Total (20)']"
   ]
  },
  {
   "cell_type": "markdown",
   "id": "bcc98e77",
   "metadata": {},
   "source": [
    "<span style=\"color:Black;font-weight:700;font-size:20px\"> \n",
    "Bar Chart\n",
    "</span>"
   ]
  },
  {
   "cell_type": "code",
   "execution_count": 5,
   "id": "6021f824",
   "metadata": {},
   "outputs": [
    {
     "name": "stderr",
     "output_type": "stream",
     "text": [
      "C:\\Users\\Saket\\AppData\\Local\\Programs\\Python\\Python310\\lib\\site-packages\\seaborn\\_decorators.py:36: FutureWarning: Pass the following variables as keyword args: x, y. From version 0.12, the only valid positional argument will be `data`, and passing other arguments without an explicit keyword will result in an error or misinterpretation.\n",
      "  warnings.warn(\n"
     ]
    },
    {
     "data": {
      "image/png": "[encoded data removed]",
      "text/plain": [
       "<Figure size 432x288 with 1 Axes>"
      ]
     },
     "metadata": {
      "needs_background": "light"
     },
     "output_type": "display_data"
    }
   ],
   "source": [
    "\n",
    "try:\n",
    "    \n",
    "    sns.barplot(y,x,data = df)\n",
    "    plt.ylabel('Names of Students')\n",
    "    plt.xlabel('Marks')\n",
    "    plt.title('M2 Exam Result for M2 (E3 Batch)')\n",
    "    plt.show()\n",
    "except FutureWarning as e:\n",
    "    print(\"nope\")"
   ]
  },
  {
   "cell_type": "markdown",
   "id": "b1d2eea9",
   "metadata": {},
   "source": [
    "<span style=\"color:Black;font-weight:700;font-size:20px\"> \n",
    "Swarm Plot\n",
    "</span>"
   ]
  },
  {
   "cell_type": "code",
   "execution_count": 6,
   "id": "60cca200",
   "metadata": {},
   "outputs": [
    {
     "name": "stderr",
     "output_type": "stream",
     "text": [
      "C:\\Users\\Saket\\AppData\\Local\\Programs\\Python\\Python310\\lib\\site-packages\\seaborn\\_decorators.py:36: FutureWarning: Pass the following variables as keyword args: x, y. From version 0.12, the only valid positional argument will be `data`, and passing other arguments without an explicit keyword will result in an error or misinterpretation.\n",
      "  warnings.warn(\n"
     ]
    },
    {
     "data": {
      "image/png": "[encoded data removed]",
      "text/plain": [
       "<Figure size 432x288 with 1 Axes>"
      ]
     },
     "metadata": {
      "needs_background": "light"
     },
     "output_type": "display_data"
    }
   ],
   "source": [
    "plotting = sns.swarmplot(y,x ,data= df)\n",
    "\n",
    "plt.show()"
   ]
  },
  {
   "cell_type": "markdown",
   "id": "68ea94c9",
   "metadata": {},
   "source": [
    "<span style=\"color:Black;font-weight:700;font-size:20px\"> \n",
    "Histogram\n",
    "</span>"
   ]
  },
  {
   "cell_type": "code",
   "execution_count": 7,
   "id": "19fc966d",
   "metadata": {},
   "outputs": [
    {
     "data": {
      "image/png": "[encoded data removed]",
      "text/plain": [
       "<Figure size 432x288 with 1 Axes>"
      ]
     },
     "metadata": {
      "needs_background": "light"
     },
     "output_type": "display_data"
    }
   ],
   "source": [
    "sns.histplot(data=x, x=y,binwidth = 1,kde = True, color = 'green', discrete = True)\n",
    "plt.xlabel('Number of Students')\n",
    "plt.ylabel('Marks of Students')\n",
    "plt.show()"
   ]
  },
  {
   "cell_type": "markdown",
   "id": "df51b5c5",
   "metadata": {},
   "source": [
    "<span style=\"color:Red;font-weight:700;font-size:40px\"> \n",
    "Infrential stats\n",
    "</span>"
   ]
  },
  {
   "cell_type": "code",
   "execution_count": 8,
   "id": "9fa73de3",
   "metadata": {},
   "outputs": [],
   "source": [
    "passing_marks = 10 #(COnsidering the passing mark is 10)"
   ]
  },
  {
   "cell_type": "code",
   "execution_count": 9,
   "id": "b242d6d8",
   "metadata": {},
   "outputs": [],
   "source": [
    "lst_fail = []\n",
    "count = 0\n",
    "lst_fail_dict = {}\n",
    "for i in df['Total (20)']:\n",
    "    if i < 10:\n",
    "        lst_fail.append(i)\n",
    "        count += 1\n",
    "        \n",
    "        "
   ]
  },
  {
   "cell_type": "code",
   "execution_count": 10,
   "id": "05bc8c13",
   "metadata": {},
   "outputs": [
    {
     "data": {
      "text/plain": [
       "[9, 9, 8, 9]"
      ]
     },
     "execution_count": 10,
     "metadata": {},
     "output_type": "execute_result"
    }
   ],
   "source": [
    "lst_fail"
   ]
  },
  {
   "cell_type": "code",
   "execution_count": 11,
   "id": "12be036a",
   "metadata": {},
   "outputs": [
    {
     "name": "stdout",
     "output_type": "stream",
     "text": [
      "Number of People who failed : 4\n"
     ]
    }
   ],
   "source": [
    "print(f'Number of People who failed : {count}')"
   ]
  },
  {
   "cell_type": "code",
   "execution_count": 12,
   "id": "6a0d9df4",
   "metadata": {},
   "outputs": [],
   "source": [
    "names = list(df['Name'])\n",
    "marks = list(df['Total (20)'])"
   ]
  },
  {
   "cell_type": "code",
   "execution_count": 13,
   "id": "50983012",
   "metadata": {},
   "outputs": [
    {
     "data": {
      "text/plain": [
       "['Person 1',\n",
       " 'Person 2',\n",
       " 'Person 3',\n",
       " 'Person 4',\n",
       " 'Person 5',\n",
       " 'Person 6',\n",
       " 'Person 7',\n",
       " 'Person 8',\n",
       " 'JPerson 9',\n",
       " 'Person 10',\n",
       " 'Person 11',\n",
       " 'Person 12',\n",
       " 'Person 13',\n",
       " 'Person 14',\n",
       " 'Person 15',\n",
       " 'Person 16',\n",
       " 'Person 17',\n",
       " 'Person 18']"
      ]
     },
     "execution_count": 13,
     "metadata": {},
     "output_type": "execute_result"
    }
   ],
   "source": [
    "names"
   ]
  },
  {
   "cell_type": "code",
   "execution_count": 14,
   "id": "1663a8b9",
   "metadata": {},
   "outputs": [
    {
     "data": {
      "text/plain": [
       "[15, 9, 15, 9, 8, 17, 16, 20, 11, 14, 9, 10, 11, 16, 13, 11, 13, 20]"
      ]
     },
     "execution_count": 14,
     "metadata": {},
     "output_type": "execute_result"
    }
   ],
   "source": [
    "marks"
   ]
  },
  {
   "cell_type": "markdown",
   "id": "9dd0ce1a",
   "metadata": {},
   "source": [
    "# People Who got passing marks"
   ]
  },
  {
   "cell_type": "code",
   "execution_count": 15,
   "id": "2f9f5ded",
   "metadata": {},
   "outputs": [],
   "source": [
    "pass_stud = []\n",
    "pass_stud_count = 0\n",
    "for i in range(0,len(names)):\n",
    "    if marks[i] == 10:\n",
    "        pass_stud.append(names[i])\n",
    "        pass_stud_count +=1"
   ]
  },
  {
   "cell_type": "code",
   "execution_count": 16,
   "id": "7b2fa806",
   "metadata": {},
   "outputs": [
    {
     "data": {
      "text/plain": [
       "['Person 12']"
      ]
     },
     "execution_count": 16,
     "metadata": {},
     "output_type": "execute_result"
    }
   ],
   "source": [
    "pass_stud"
   ]
  },
  {
   "cell_type": "code",
   "execution_count": 17,
   "id": "4d3f28e4",
   "metadata": {},
   "outputs": [],
   "source": [
    "just_pass_lst = []\n",
    "just_pass_num = passing_marks +1\n",
    "for i in range(0,len(names)):\n",
    "    if marks[i] == just_pass_num:\n",
    "        just_pass_lst.append(names[i])\n",
    "         "
   ]
  },
  {
   "cell_type": "code",
   "execution_count": 18,
   "id": "4ad39827",
   "metadata": {},
   "outputs": [
    {
     "data": {
      "text/plain": [
       "['JPerson 9', 'Person 13', 'Person 16']"
      ]
     },
     "execution_count": 18,
     "metadata": {},
     "output_type": "execute_result"
    }
   ],
   "source": [
    "just_pass_lst"
   ]
  },
  {
   "cell_type": "markdown",
   "id": "74d2cf5b",
   "metadata": {},
   "source": [
    "# People Who Failed in M2 PP"
   ]
  },
  {
   "cell_type": "code",
   "execution_count": 19,
   "id": "8e6b8aa7",
   "metadata": {},
   "outputs": [],
   "source": [
    "names_stud_fail = []\n",
    "for i in range(0,len(names)):\n",
    "    if marks[i] < 10:\n",
    "        names_stud_fail.append(names[i])\n",
    "        "
   ]
  },
  {
   "cell_type": "code",
   "execution_count": 20,
   "id": "8a905724",
   "metadata": {},
   "outputs": [
    {
     "data": {
      "text/plain": [
       "['Person 2', 'Person 4', 'Person 5', 'Person 11']"
      ]
     },
     "execution_count": 20,
     "metadata": {},
     "output_type": "execute_result"
    }
   ],
   "source": [
    "names_stud_fail"
   ]
  },
  {
   "cell_type": "markdown",
   "id": "3336f9e9",
   "metadata": {},
   "source": [
    "# Average of the Class"
   ]
  },
  {
   "cell_type": "code",
   "execution_count": 21,
   "id": "32b6195c",
   "metadata": {},
   "outputs": [],
   "source": [
    "avg_of_class = np.average(marks)"
   ]
  },
  {
   "cell_type": "code",
   "execution_count": 22,
   "id": "ddc06353",
   "metadata": {},
   "outputs": [
    {
     "data": {
      "text/plain": [
       "13.17"
      ]
     },
     "execution_count": 22,
     "metadata": {},
     "output_type": "execute_result"
    }
   ],
   "source": [
    "round(avg_of_class,2)"
   ]
  },
  {
   "cell_type": "markdown",
   "id": "6a0c6206",
   "metadata": {},
   "source": [
    "# People who got above average"
   ]
  },
  {
   "cell_type": "code",
   "execution_count": 23,
   "id": "15e62962",
   "metadata": {},
   "outputs": [],
   "source": [
    "stud_abv_average = []\n",
    "count_abv_avg = 0\n",
    "for i in range(0,len(names)):\n",
    "    if marks[i] > avg_of_class:\n",
    "        stud_abv_average.append(names[i])\n",
    "        count_abv_avg +=1\n",
    "        "
   ]
  },
  {
   "cell_type": "code",
   "execution_count": 24,
   "id": "b73798bb",
   "metadata": {},
   "outputs": [
    {
     "data": {
      "text/plain": [
       "['Person 1',\n",
       " 'Person 10',\n",
       " 'Person 14',\n",
       " 'Person 18',\n",
       " 'Person 3',\n",
       " 'Person 6',\n",
       " 'Person 7',\n",
       " 'Person 8']"
      ]
     },
     "execution_count": 24,
     "metadata": {},
     "output_type": "execute_result"
    }
   ],
   "source": [
    "sorted(stud_abv_average)"
   ]
  },
  {
   "cell_type": "code",
   "execution_count": 25,
   "id": "9c8f14bc",
   "metadata": {},
   "outputs": [
    {
     "name": "stdout",
     "output_type": "stream",
     "text": [
      "Students who got above averge : 8\n"
     ]
    }
   ],
   "source": [
    "print(f\"Students who got above averge : {count_abv_avg}\")"
   ]
  },
  {
   "cell_type": "markdown",
   "id": "41d5c66d",
   "metadata": {},
   "source": [
    "# People who got average and below"
   ]
  },
  {
   "cell_type": "code",
   "execution_count": 26,
   "id": "296384fd",
   "metadata": {},
   "outputs": [],
   "source": [
    "stud_below_average = []\n",
    "stud_average_marks = []\n",
    "count_below_avg = 0\n",
    "count_avg = 0\n",
    "for i in range(0,len(names)):\n",
    "    if marks[i] == 13:\n",
    "        stud_average_marks.append(names[i])\n",
    "        count_avg +=1\n",
    "    elif marks[i] < avg_of_class:\n",
    "        stud_below_average.append(names[i])\n",
    "        count_below_avg +=1\n",
    "    \n",
    "        \n",
    "        "
   ]
  },
  {
   "cell_type": "code",
   "execution_count": 27,
   "id": "152396de",
   "metadata": {},
   "outputs": [
    {
     "name": "stdout",
     "output_type": "stream",
     "text": [
      "Those who scored below average :-\n"
     ]
    },
    {
     "data": {
      "text/plain": [
       "['JPerson 9',\n",
       " 'Person 11',\n",
       " 'Person 12',\n",
       " 'Person 13',\n",
       " 'Person 16',\n",
       " 'Person 2',\n",
       " 'Person 4',\n",
       " 'Person 5']"
      ]
     },
     "execution_count": 27,
     "metadata": {},
     "output_type": "execute_result"
    }
   ],
   "source": [
    "print(\"Those who scored below average :-\")\n",
    "sorted(stud_below_average)"
   ]
  },
  {
   "cell_type": "code",
   "execution_count": 28,
   "id": "07ee9676",
   "metadata": {},
   "outputs": [
    {
     "data": {
      "text/plain": [
       "['Person 15', 'Person 17']"
      ]
     },
     "execution_count": 28,
     "metadata": {},
     "output_type": "execute_result"
    }
   ],
   "source": [
    "stud_average_marks"
   ]
  },
  {
   "cell_type": "code",
   "execution_count": 29,
   "id": "24f9570f",
   "metadata": {},
   "outputs": [
    {
     "name": "stdout",
     "output_type": "stream",
     "text": [
      "People who got below average marks: 8\n",
      "People who got average marks: 2\n"
     ]
    }
   ],
   "source": [
    "print(f'People who got below average marks: {count_below_avg}')\n",
    "print(f'People who got average marks: {count_avg}')"
   ]
  },
  {
   "cell_type": "markdown",
   "id": "2fc622ad",
   "metadata": {},
   "source": [
    "# People who topped in the exam"
   ]
  },
  {
   "cell_type": "code",
   "execution_count": 30,
   "id": "6401ee8f",
   "metadata": {},
   "outputs": [],
   "source": [
    "stud_top = []\n",
    "for i in range(0,len(names)):\n",
    "    if marks[i] == 20:\n",
    "        stud_top.append(names[i])\n",
    "        "
   ]
  },
  {
   "cell_type": "code",
   "execution_count": 31,
   "id": "d418ed60",
   "metadata": {},
   "outputs": [
    {
     "data": {
      "text/plain": [
       "['Person 18', 'Person 8']"
      ]
     },
     "execution_count": 31,
     "metadata": {},
     "output_type": "execute_result"
    }
   ],
   "source": [
    "sorted(stud_top)"
   ]
  },
  {
   "cell_type": "markdown",
   "id": "d66d3552",
   "metadata": {},
   "source": [
    "# Summarizing the Data"
   ]
  },
  {
   "cell_type": "code",
   "execution_count": 32,
   "id": "caf76c1c",
   "metadata": {},
   "outputs": [],
   "source": [
    "passing = len(pass_stud)\n",
    "just_pass = len(just_pass_lst)\n",
    "fail = len(names_stud_fail)\n",
    "abv_avg = len(stud_abv_average)\n",
    "exact_avg = len(stud_average_marks)\n",
    "blw_avg = len(stud_below_average)\n",
    "prodigy = len(stud_top)"
   ]
  },
  {
   "cell_type": "code",
   "execution_count": 33,
   "id": "b7700e1d",
   "metadata": {},
   "outputs": [],
   "source": [
    "groups = [passing,just_pass,fail,abv_avg,exact_avg,blw_avg,prodigy]"
   ]
  },
  {
   "cell_type": "code",
   "execution_count": 34,
   "id": "85429d25",
   "metadata": {},
   "outputs": [
    {
     "data": {
      "text/plain": [
       "[1, 3, 4, 8, 2, 8, 2]"
      ]
     },
     "execution_count": 34,
     "metadata": {},
     "output_type": "execute_result"
    }
   ],
   "source": [
    "groups"
   ]
  },
  {
   "cell_type": "code",
   "execution_count": 35,
   "id": "644b088c",
   "metadata": {},
   "outputs": [],
   "source": [
    "group_title = ['Pass','Just Pass','Fail','Above Average','Average','Below Average','Excelled']"
   ]
  },
  {
   "cell_type": "code",
   "execution_count": 36,
   "id": "511bf3ee",
   "metadata": {},
   "outputs": [
    {
     "data": {
      "image/png": "[encoded data removed]",
      "text/plain": [
       "<Figure size 842.4x1099.44 with 1 Axes>"
      ]
     },
     "metadata": {},
     "output_type": "display_data"
    }
   ],
   "source": [
    "plt.subplots(figsize=(11.7,15.27))\n",
    "\n",
    "palette_color = sns.color_palette('bright')\n",
    "\n",
    "plt.pie(groups, labels=group_title, colors=palette_color, autopct='%.2f%%')\n",
    "plt.show()"
   ]
  },
  {
   "cell_type": "code",
   "execution_count": 37,
   "id": "9373061e",
   "metadata": {},
   "outputs": [],
   "source": [
    "#t test (sample is less then 30)"
   ]
  },
  {
   "cell_type": "code",
   "execution_count": 38,
   "id": "dd667f13",
   "metadata": {},
   "outputs": [],
   "source": [
    "from scipy import stats"
   ]
  },
  {
   "cell_type": "code",
   "execution_count": 39,
   "id": "cbd7d773",
   "metadata": {},
   "outputs": [],
   "source": [
    "# Null hypothesis: There is a difference between assumed mean and the actual mean.\n",
    "# Alternate hypothesis: There is no difference between hypothesized and actual mean."
   ]
  },
  {
   "cell_type": "code",
   "execution_count": 40,
   "id": "408fbe1d",
   "metadata": {},
   "outputs": [
    {
     "data": {
      "text/plain": [
       "[15, 9, 15, 9, 8, 17, 16, 20, 11, 14, 9, 10, 11, 16, 13, 11, 13, 20]"
      ]
     },
     "execution_count": 40,
     "metadata": {},
     "output_type": "execute_result"
    }
   ],
   "source": [
    "marks"
   ]
  },
  {
   "cell_type": "code",
   "execution_count": 41,
   "id": "96d0bd3d",
   "metadata": {},
   "outputs": [],
   "source": [
    "mui = 10 #Population mean"
   ]
  },
  {
   "cell_type": "code",
   "execution_count": 42,
   "id": "ea8d1123",
   "metadata": {},
   "outputs": [],
   "source": [
    "t,p = stats.ttest_1samp(marks,mui)"
   ]
  },
  {
   "cell_type": "code",
   "execution_count": 43,
   "id": "fadf8f40",
   "metadata": {},
   "outputs": [
    {
     "data": {
      "text/plain": [
       "0.0021272230648708775"
      ]
     },
     "execution_count": 43,
     "metadata": {},
     "output_type": "execute_result"
    }
   ],
   "source": [
    "p"
   ]
  },
  {
   "cell_type": "code",
   "execution_count": 44,
   "id": "473d6e36",
   "metadata": {},
   "outputs": [],
   "source": [
    "p_value = float('{:.6f}'.format(p))"
   ]
  },
  {
   "cell_type": "code",
   "execution_count": 45,
   "id": "54d645ff",
   "metadata": {},
   "outputs": [
    {
     "data": {
      "text/plain": [
       "0.002127"
      ]
     },
     "execution_count": 45,
     "metadata": {},
     "output_type": "execute_result"
    }
   ],
   "source": [
    "p_value #For two tailed test (T alpha)"
   ]
  },
  {
   "cell_type": "code",
   "execution_count": 46,
   "id": "15dfaa39",
   "metadata": {},
   "outputs": [
    {
     "name": "stdout",
     "output_type": "stream",
     "text": [
      "T value : 3.617359\n"
     ]
    }
   ],
   "source": [
    "print('T value : {:.6f}'.format(t))"
   ]
  },
  {
   "cell_type": "code",
   "execution_count": 47,
   "id": "e7259226",
   "metadata": {},
   "outputs": [],
   "source": [
    "alpha = 0.05 #(given)"
   ]
  },
  {
   "cell_type": "code",
   "execution_count": 48,
   "id": "bbfcfe88",
   "metadata": {},
   "outputs": [
    {
     "name": "stdout",
     "output_type": "stream",
     "text": [
      "Reject Null Hypothesis\n"
     ]
    }
   ],
   "source": [
    "if p_value > alpha:\n",
    "    print(\"Accept Null Hupothesis\")\n",
    "else:\n",
    "    print(\"Reject Null Hypothesis\")"
   ]
  }
 ],
 "metadata": {
  "kernelspec": {
   "display_name": "Python 3 (ipykernel)",
   "language": "python",
   "name": "python3"
  },
  "language_info": {
   "codemirror_mode": {
    "name": "ipython",
    "version": 3
   },
   "file_extension": ".py",
   "mimetype": "text/x-python",
   "name": "python",
   "nbconvert_exporter": "python",
   "pygments_lexer": "ipython3",
   "version": "3.10.0"
  }
 },
 "nbformat": 4,
 "nbformat_minor": 5
}
